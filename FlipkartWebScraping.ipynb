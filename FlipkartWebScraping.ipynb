{
 "cells": [
  {
   "cell_type": "code",
   "execution_count": 54,
   "id": "4ac57220",
   "metadata": {},
   "outputs": [],
   "source": [
    "# AIM -> Title, Price, Description, Rating."
   ]
  },
  {
   "cell_type": "code",
   "execution_count": 55,
   "id": "323d0bdd",
   "metadata": {},
   "outputs": [],
   "source": [
    "import pandas as pd\n",
    "from bs4 import BeautifulSoup\n",
    "import requests"
   ]
  },
  {
   "cell_type": "code",
   "execution_count": 56,
   "id": "ae465f48",
   "metadata": {},
   "outputs": [
    {
     "name": "stdout",
     "output_type": "stream",
     "text": [
      "200\n"
     ]
    }
   ],
   "source": [
    "url = 'https://www.flipkart.com/search?p%5B%5D=facets.brand%255B%255D%3DSamsung&sid=tyy%2F4io&sort=recency_desc&ctx=eyJjYXJkQ29udGV4dCI6eyJhdHRyaWJ1dGVzIjp7InRpdGxlIjp7Im11bHRpVmFsdWVkQXR0cmlidXRlIjp7ImtleSI6InRpdGxlIiwiaW5mZXJlbmNlVHlwZSI6IlRJVExFIiwidmFsdWVzIjpbIkxhdGVzdCBTYW1zdW5nIG1vYmlsZXMgIl0sInZhbHVlVHlwZSI6Ik1VTFRJX1ZBTFVFRCJ9fX19fQ%3D%3D&wid=1.productCard.PMU_V2_1'\n",
    "res = requests.get(url)\n",
    "status = res.status_code \n",
    "print(status)"
   ]
  },
  {
   "cell_type": "code",
   "execution_count": 57,
   "id": "5f651344",
   "metadata": {},
   "outputs": [],
   "source": [
    "#Contains Raw Html Data.\n",
    "\n",
    "doc = res.text"
   ]
  },
  {
   "cell_type": "code",
   "execution_count": 58,
   "id": "4a33f136",
   "metadata": {},
   "outputs": [],
   "source": [
    "#Using Beautiful Soup and Parsed Data.\n",
    "\n",
    "soup = BeautifulSoup(doc, 'html.parser')"
   ]
  },
  {
   "cell_type": "code",
   "execution_count": 59,
   "id": "b8203e74",
   "metadata": {},
   "outputs": [
    {
     "data": {
      "text/plain": [
       "'SAMSUNG S23 FE (Graphite, 128 GB)'"
      ]
     },
     "execution_count": 59,
     "metadata": {},
     "output_type": "execute_result"
    }
   ],
   "source": [
    "#We will fetch Title\n",
    "\n",
    "title = soup.find_all('div', class_ = '_4rR01T')\n",
    "title[0].text"
   ]
  },
  {
   "cell_type": "code",
   "execution_count": 60,
   "id": "1326d7ae",
   "metadata": {},
   "outputs": [
    {
     "data": {
      "text/plain": [
       "'8 GB RAM | 128 GB ROM16.26 cm (6.4 inch) Full HD+ Super AMOLED Display50MP + 12MP + 8MP | 10MP Front Camera4500 mAh BatteryQualcomm SM8450 Snapdragon 8 Gen 1 Processor1 Year Manufacturer Warranty for Device and 6 Months Manufacturer Warranty for In-Box Accessories'"
      ]
     },
     "execution_count": 60,
     "metadata": {},
     "output_type": "execute_result"
    }
   ],
   "source": [
    "#We will fetch Description\n",
    "\n",
    "description = soup.find_all('div', class_ = 'fMghEO')\n",
    "description[0].text"
   ]
  },
  {
   "cell_type": "code",
   "execution_count": 61,
   "id": "019927d0",
   "metadata": {},
   "outputs": [
    {
     "data": {
      "text/plain": [
       "'₹59,999'"
      ]
     },
     "execution_count": 61,
     "metadata": {},
     "output_type": "execute_result"
    }
   ],
   "source": [
    "#We will fetch Price.\n",
    "\n",
    "price = soup.find_all('div', class_ = '_30jeq3 _1_WHN1')\n",
    "price[0].text"
   ]
  },
  {
   "cell_type": "code",
   "execution_count": 62,
   "id": "3030c683",
   "metadata": {},
   "outputs": [
    {
     "data": {
      "text/plain": [
       "'4.3'"
      ]
     },
     "execution_count": 62,
     "metadata": {},
     "output_type": "execute_result"
    }
   ],
   "source": [
    "#We will fetch Ratings\n",
    "\n",
    "rating = soup.find_all('div', class_ = '_3LWZlK')\n",
    "rating[0].text"
   ]
  },
  {
   "cell_type": "code",
   "execution_count": 63,
   "id": "449bb3d0",
   "metadata": {},
   "outputs": [
    {
     "data": {
      "text/plain": [
       "['SAMSUNG S23 FE (Graphite, 128 GB)',\n",
       " 'SAMSUNG Galaxy A72 (Awesome White, 128 GB)',\n",
       " 'SAMSUNG Galaxy S23 Ultra 5G (Green, 256 GB)',\n",
       " 'SAMSUNG Galaxy A33 5G (Awesome Blue, 128 GB)',\n",
       " 'SAMSUNG Galaxy A53 5G (Awesome Black, 128 GB)',\n",
       " 'SAMSUNG Galaxy S20+ (Cloud Blue, 128 GB)',\n",
       " 'SAMSUNG a23 (bule, 128 GB)',\n",
       " 'SAMSUNG a14 5g (Steller Black, 64 GB)',\n",
       " 'Samsung Galaxy S21 FE 5G with Snapdragon 888 (Olive, 128 GB)',\n",
       " 'Samsung Galaxy S21 FE 5G with Snapdragon 888 (Navy, 128 GB)',\n",
       " 'Samsung Galaxy S21 FE 5G with Snapdragon 888 (Graphite, 128 GB)',\n",
       " 'Samsung Galaxy S21 FE 5G with Snapdragon 888 (Lavender, 128 GB)',\n",
       " 'SAMSUNG A14 5g (Green, 128 GB)',\n",
       " 'Samsung Galaxy S21 FE 5G with Snapdragon 888 (Navy, 256 GB)',\n",
       " 'Samsung Galaxy S21 FE 5G with Snapdragon 888 (Olive, 256 GB)',\n",
       " 'Samsung Galaxy S21 FE 5G with Snapdragon 888 (Graphite, 256 GB)',\n",
       " 'SAMSUNG GALAXY M13 (Aqua Green, 64 GB)',\n",
       " 'SAMSUNG A14 5g (Green, 128 GB)',\n",
       " 'SAMSUNG Galaxy M14 5G (ICY Silver, 128 GB)',\n",
       " 'SAMSUNG Galaxy M04 (Light Green, 128 GB)',\n",
       " 'SAMSUNG Galaxy M14 5G (Berry Blue, 128 GB)',\n",
       " 'SAMSUNG Galaxy M33 5G (Mystique Green, 128 GB)',\n",
       " 'SAMSUNG Galaxy M04 (Light Green, 64 GB)',\n",
       " 'SAMSUNG Galaxy F34 5G (Orchid Violet, 128 GB)']"
      ]
     },
     "execution_count": 63,
     "metadata": {},
     "output_type": "execute_result"
    }
   ],
   "source": [
    "#Fetching Final TITLE Data.\n",
    "\n",
    "TitleList = []\n",
    "\n",
    "for titles in title:\n",
    "    TitleList.append(titles.text)\n",
    "    \n",
    "TitleList"
   ]
  },
  {
   "cell_type": "code",
   "execution_count": 64,
   "id": "f256c09e",
   "metadata": {},
   "outputs": [
    {
     "data": {
      "text/plain": [
       "['8 GB RAM | 128 GB ROM16.26 cm (6.4 inch) Full HD+ Super AMOLED Display50MP + 12MP + 8MP | 10MP Front Camera4500 mAh BatteryQualcomm SM8450 Snapdragon 8 Gen 1 Processor1 Year Manufacturer Warranty for Device and 6 Months Manufacturer Warranty for In-Box Accessories',\n",
       " '8 GB RAM | 128 GB ROM17.02 cm (6.7 inch) Display64MP Rear Camera5000 mAh BatteryDomestic 12 months on phone & 6 months on box accessories',\n",
       " '12 GB RAM | 256 GB ROM17.27 cm (6.8 inch) Quad HD+ Display200MP Rear Camera5000 mAh BatteryQualcomm Snapdragon 8 Gen 2 Processor1 Year Manufacturer Warranty for Device and 6 Months Manufacturer Warranty for In-Box Accessories',\n",
       " '8 GB RAM | 128 GB ROM16.26 cm (6.4 inch) Display48MP Rear Camera5000 mAh BatteryDomestic 1 year on phone & 6 months on accessories',\n",
       " '8 GB RAM | 128 GB ROM16.51 cm (6.5 inch) Display64MP Rear Camera5000 mAh BatteryDomestic 1 year warranty on phone & 6 months on accessories',\n",
       " '8 GB RAM | 128 GB ROM17.02 cm (6.7 inch) Display64MP Rear Camera4500 mAh BatteryDomestic 1 year on phone & 6 months on accessories',\n",
       " '8 GB RAM | 128 GB ROM | Expandable Upto 1 TB16.76 cm (6.6 inch) Full HD+ Display50MP + 5MP + 5MP + 2MP | 8MP Front Camera5000 mAh BatterySnapdragon 695 Processor1 Year Manufacturer Warranty for Device and 6 Months Manufacturer Warranty',\n",
       " '4 GB RAM | 64 GB ROM16.76 cm (6.6 inch) Full HD+ Display50MP + 2MP + 2MP | 13MP Front Camera5000 mAh Battery(Exynos 1330) Processor12 Months',\n",
       " '8 GB RAM | 128 GB ROM16.26 cm (6.4 inch) Full HD+ Display12MP + 12MP + 8MP (OIS) | 32MP Front Camera4500 mAh Lithium-ion BatterySnapdragon 888 Processor1 Year Manufacturer Warranty for Device and 6 Months Manufacturer Warranty for In-Box Accessories',\n",
       " '8 GB RAM | 128 GB ROM16.26 cm (6.4 inch) Full HD+ Display12MP + 12MP + 8MP (OIS) | 32MP Front Camera4500 mAh Lithium-ion BatterySnapdragon 888 Processor1 Year Manufacturer Warranty for Device and 6 Months Manufacturer Warranty for In-Box Accessories',\n",
       " '8 GB RAM | 128 GB ROM16.26 cm (6.4 inch) Full HD+ Display12MP + 12MP + 8MP (OIS) | 32MP Front Camera4500 mAh Lithium-ion BatterySnapdragon 888 Processor1 Year Manufacturer Warranty for Device and 6 Months Manufacturer Warranty for In-Box Accessories',\n",
       " '8 GB RAM | 128 GB ROM16.26 cm (6.4 inch) Full HD+ Display12MP + 12MP + 8MP (OIS) | 32MP Front Camera4500 mAh Lithium-ion BatterySnapdragon 888 Processor1 Year Manufacturer Warranty for Device and 6 Months Manufacturer Warranty for In-Box Accessories',\n",
       " '6 GB RAM | 128 GB ROM | Expandable Upto 1 TB16.76 cm (6.6 inch) Full HD+ Display50MP + 2MP + 2MP | 13MP Front Camera5000 mAh Battery(Exynos 1330) Processor12 Months',\n",
       " '8 GB RAM | 256 GB ROM16.26 cm (6.4 inch) Full HD+ Display12MP + 12MP + 8MP (OIS) | 32MP Front Camera4500 mAh Lithium-ion BatterySnapdragon 888 Processor1 Year Manufacturer Warranty for Device and 6 Months Manufacturer Warranty for In-Box Accessories',\n",
       " '8 GB RAM | 256 GB ROM16.26 cm (6.4 inch) Full HD+ Display12MP + 12MP + 8MP (OIS) | 32MP Front Camera4500 mAh Lithium-ion BatterySnapdragon 888 Processor1 Year Manufacturer Warranty for Device and 6 Months Manufacturer Warranty for In-Box Accessories',\n",
       " '8 GB RAM | 256 GB ROM16.26 cm (6.4 inch) Full HD+ Display12MP + 12MP + 8MP (OIS) | 32MP Front Camera4500 mAh Lithium-ion BatterySnapdragon 888 Processor1 Year Manufacturer Warranty for Device and 6 Months Manufacturer Warranty for In-Box Accessories',\n",
       " '4 GB RAM | 64 GB ROM16.76 cm (6.6 inch) Display50MP Rear Camera6000 mAh Battery1 Year Warranty',\n",
       " '8 GB RAM | 128 GB ROM16.76 cm (6.6 inch) Full HD+ Display50MP + 2MP + 2MP | 13MP Front Camera5000 mAh Battery(Exynos 1330) Processor12 Months',\n",
       " '4 GB RAM | 128 GB ROM16.76 cm (6.6 inch) Display50MP Rear Camera6000 mAh Battery1 year for handset and 6 month for accessories',\n",
       " '4 GB RAM | 128 GB ROM16.51 cm (6.5 inch) HD+ Display13MP + 2MP5000 mAh BatteryMediaTek Helio P35 Processor1 year manufacturer warranty for device and 6 months manufacturer warranty for in-box accessories',\n",
       " '6 GB RAM | 128 GB ROM16.76 cm (6.6 inch) Display50MP Rear Camera6000 mAh Battery1 year for handset and 6 month for accessories',\n",
       " '8 GB RAM | 128 GB ROM16.76 cm (6.6 inch) Display50MP Rear Camera6000 mAh Battery1 Year Warranty',\n",
       " '4 GB RAM | 64 GB ROM16.51 cm (6.5 inch) HD+ Display13MP + 2MP | 5MP Front Camera5000 mAh BatteryMediaTek Helio P35 Processor1 year manufacturer warranty for device and 6 months manufacturer warranty for in-box accessories including batteries from the date of purchase',\n",
       " '8 GB RAM | 128 GB ROM | Expandable Upto 1 TB16.51 cm (6.5 inch) Full HD+ Display50MP (OIS) + 8MP + 2MP | 13MP Front Camera6000 mAh BatteryExynos 1280 Processor1 Year Manufacturer Warranty for Device and 6 Months Manufacturer Warranty for In-Box Accessories']"
      ]
     },
     "execution_count": 64,
     "metadata": {},
     "output_type": "execute_result"
    }
   ],
   "source": [
    "#Fetching Final Description Data.\n",
    "\n",
    "DescriptionList = []\n",
    "\n",
    "for desc in description:\n",
    "    DescriptionList.append(desc.text)\n",
    "    \n",
    "DescriptionList"
   ]
  },
  {
   "cell_type": "code",
   "execution_count": 65,
   "id": "85bc970f",
   "metadata": {},
   "outputs": [
    {
     "data": {
      "text/plain": [
       "['₹59,999',\n",
       " '₹25,990',\n",
       " '₹1,03,999',\n",
       " '₹24,999',\n",
       " '₹28,990',\n",
       " '₹39,990',\n",
       " '₹22,781',\n",
       " '₹32,999',\n",
       " '₹32,999',\n",
       " '₹32,999',\n",
       " '₹32,999',\n",
       " '₹17,599',\n",
       " '₹34,999',\n",
       " '₹34,999',\n",
       " '₹34,999',\n",
       " '₹9,978',\n",
       " '₹18,999',\n",
       " '₹12,880',\n",
       " '₹8,172',\n",
       " '₹12,870',\n",
       " '₹18,389',\n",
       " '₹7,254',\n",
       " '₹18,499']"
      ]
     },
     "execution_count": 65,
     "metadata": {},
     "output_type": "execute_result"
    }
   ],
   "source": [
    "#Fetching Final Price Data\n",
    "\n",
    "PriceList = []\n",
    "\n",
    "for pri in price:\n",
    "    PriceList.append(pri.text)\n",
    "    \n",
    "PriceList"
   ]
  },
  {
   "cell_type": "code",
   "execution_count": 66,
   "id": "efc77982",
   "metadata": {},
   "outputs": [
    {
     "data": {
      "text/plain": [
       "['4.3',\n",
       " '4.5',\n",
       " '4.4',\n",
       " '4.3',\n",
       " '4.3',\n",
       " '4.3',\n",
       " '4.3',\n",
       " '4.3',\n",
       " '4.3',\n",
       " '4.3',\n",
       " '4.2',\n",
       " '3',\n",
       " '4.2',\n",
       " '4.1',\n",
       " '4.2',\n",
       " '4.2',\n",
       " '4.1',\n",
       " '4.2']"
      ]
     },
     "execution_count": 66,
     "metadata": {},
     "output_type": "execute_result"
    }
   ],
   "source": [
    "#Fetching FINAL Rating Data\n",
    "\n",
    "RatingList = []\n",
    "\n",
    "for rat in rating:\n",
    "    RatingList.append(rat.text)\n",
    "    \n",
    "RatingList"
   ]
  },
  {
   "cell_type": "code",
   "execution_count": 67,
   "id": "3d333461",
   "metadata": {},
   "outputs": [
    {
     "data": {
      "text/html": [
       "<div>\n",
       "<style scoped>\n",
       "    .dataframe tbody tr th:only-of-type {\n",
       "        vertical-align: middle;\n",
       "    }\n",
       "\n",
       "    .dataframe tbody tr th {\n",
       "        vertical-align: top;\n",
       "    }\n",
       "\n",
       "    .dataframe thead th {\n",
       "        text-align: right;\n",
       "    }\n",
       "</style>\n",
       "<table border=\"1\" class=\"dataframe\">\n",
       "  <thead>\n",
       "    <tr style=\"text-align: right;\">\n",
       "      <th></th>\n",
       "      <th>Title</th>\n",
       "      <th>Description</th>\n",
       "      <th>Price</th>\n",
       "      <th>Ratings</th>\n",
       "    </tr>\n",
       "  </thead>\n",
       "  <tbody>\n",
       "    <tr>\n",
       "      <th>0</th>\n",
       "      <td>SAMSUNG S23 FE (Graphite, 128 GB)</td>\n",
       "      <td>8 GB RAM | 128 GB ROM16.26 cm (6.4 inch) Full ...</td>\n",
       "      <td>₹59,999</td>\n",
       "      <td>4.3</td>\n",
       "    </tr>\n",
       "    <tr>\n",
       "      <th>1</th>\n",
       "      <td>SAMSUNG Galaxy A72 (Awesome White, 128 GB)</td>\n",
       "      <td>8 GB RAM | 128 GB ROM17.02 cm (6.7 inch) Displ...</td>\n",
       "      <td>₹25,990</td>\n",
       "      <td>4.5</td>\n",
       "    </tr>\n",
       "    <tr>\n",
       "      <th>2</th>\n",
       "      <td>SAMSUNG Galaxy S23 Ultra 5G (Green, 256 GB)</td>\n",
       "      <td>12 GB RAM | 256 GB ROM17.27 cm (6.8 inch) Quad...</td>\n",
       "      <td>₹1,03,999</td>\n",
       "      <td>4.4</td>\n",
       "    </tr>\n",
       "    <tr>\n",
       "      <th>3</th>\n",
       "      <td>SAMSUNG Galaxy A33 5G (Awesome Blue, 128 GB)</td>\n",
       "      <td>8 GB RAM | 128 GB ROM16.26 cm (6.4 inch) Displ...</td>\n",
       "      <td>₹24,999</td>\n",
       "      <td>4.3</td>\n",
       "    </tr>\n",
       "    <tr>\n",
       "      <th>4</th>\n",
       "      <td>SAMSUNG Galaxy A53 5G (Awesome Black, 128 GB)</td>\n",
       "      <td>8 GB RAM | 128 GB ROM16.51 cm (6.5 inch) Displ...</td>\n",
       "      <td>₹28,990</td>\n",
       "      <td>4.3</td>\n",
       "    </tr>\n",
       "    <tr>\n",
       "      <th>5</th>\n",
       "      <td>SAMSUNG Galaxy S20+ (Cloud Blue, 128 GB)</td>\n",
       "      <td>8 GB RAM | 128 GB ROM17.02 cm (6.7 inch) Displ...</td>\n",
       "      <td>₹39,990</td>\n",
       "      <td>4.3</td>\n",
       "    </tr>\n",
       "    <tr>\n",
       "      <th>6</th>\n",
       "      <td>SAMSUNG a23 (bule, 128 GB)</td>\n",
       "      <td>8 GB RAM | 128 GB ROM | Expandable Upto 1 TB16...</td>\n",
       "      <td>₹22,781</td>\n",
       "      <td>4.3</td>\n",
       "    </tr>\n",
       "    <tr>\n",
       "      <th>7</th>\n",
       "      <td>SAMSUNG a14 5g (Steller Black, 64 GB)</td>\n",
       "      <td>4 GB RAM | 64 GB ROM16.76 cm (6.6 inch) Full H...</td>\n",
       "      <td>₹32,999</td>\n",
       "      <td>4.3</td>\n",
       "    </tr>\n",
       "    <tr>\n",
       "      <th>8</th>\n",
       "      <td>Samsung Galaxy S21 FE 5G with Snapdragon 888 (...</td>\n",
       "      <td>8 GB RAM | 128 GB ROM16.26 cm (6.4 inch) Full ...</td>\n",
       "      <td>₹32,999</td>\n",
       "      <td>4.3</td>\n",
       "    </tr>\n",
       "    <tr>\n",
       "      <th>9</th>\n",
       "      <td>Samsung Galaxy S21 FE 5G with Snapdragon 888 (...</td>\n",
       "      <td>8 GB RAM | 128 GB ROM16.26 cm (6.4 inch) Full ...</td>\n",
       "      <td>₹32,999</td>\n",
       "      <td>4.3</td>\n",
       "    </tr>\n",
       "    <tr>\n",
       "      <th>10</th>\n",
       "      <td>Samsung Galaxy S21 FE 5G with Snapdragon 888 (...</td>\n",
       "      <td>8 GB RAM | 128 GB ROM16.26 cm (6.4 inch) Full ...</td>\n",
       "      <td>₹32,999</td>\n",
       "      <td>4.2</td>\n",
       "    </tr>\n",
       "    <tr>\n",
       "      <th>11</th>\n",
       "      <td>Samsung Galaxy S21 FE 5G with Snapdragon 888 (...</td>\n",
       "      <td>8 GB RAM | 128 GB ROM16.26 cm (6.4 inch) Full ...</td>\n",
       "      <td>₹17,599</td>\n",
       "      <td>3</td>\n",
       "    </tr>\n",
       "    <tr>\n",
       "      <th>12</th>\n",
       "      <td>SAMSUNG A14 5g (Green, 128 GB)</td>\n",
       "      <td>6 GB RAM | 128 GB ROM | Expandable Upto 1 TB16...</td>\n",
       "      <td>₹34,999</td>\n",
       "      <td>4.2</td>\n",
       "    </tr>\n",
       "    <tr>\n",
       "      <th>13</th>\n",
       "      <td>Samsung Galaxy S21 FE 5G with Snapdragon 888 (...</td>\n",
       "      <td>8 GB RAM | 256 GB ROM16.26 cm (6.4 inch) Full ...</td>\n",
       "      <td>₹34,999</td>\n",
       "      <td>4.1</td>\n",
       "    </tr>\n",
       "    <tr>\n",
       "      <th>14</th>\n",
       "      <td>Samsung Galaxy S21 FE 5G with Snapdragon 888 (...</td>\n",
       "      <td>8 GB RAM | 256 GB ROM16.26 cm (6.4 inch) Full ...</td>\n",
       "      <td>₹34,999</td>\n",
       "      <td>4.2</td>\n",
       "    </tr>\n",
       "    <tr>\n",
       "      <th>15</th>\n",
       "      <td>Samsung Galaxy S21 FE 5G with Snapdragon 888 (...</td>\n",
       "      <td>8 GB RAM | 256 GB ROM16.26 cm (6.4 inch) Full ...</td>\n",
       "      <td>₹9,978</td>\n",
       "      <td>4.2</td>\n",
       "    </tr>\n",
       "    <tr>\n",
       "      <th>16</th>\n",
       "      <td>SAMSUNG GALAXY M13 (Aqua Green, 64 GB)</td>\n",
       "      <td>4 GB RAM | 64 GB ROM16.76 cm (6.6 inch) Displa...</td>\n",
       "      <td>₹18,999</td>\n",
       "      <td>4.1</td>\n",
       "    </tr>\n",
       "    <tr>\n",
       "      <th>17</th>\n",
       "      <td>SAMSUNG A14 5g (Green, 128 GB)</td>\n",
       "      <td>8 GB RAM | 128 GB ROM16.76 cm (6.6 inch) Full ...</td>\n",
       "      <td>₹12,880</td>\n",
       "      <td>4.2</td>\n",
       "    </tr>\n",
       "    <tr>\n",
       "      <th>18</th>\n",
       "      <td>SAMSUNG Galaxy M14 5G (ICY Silver, 128 GB)</td>\n",
       "      <td>4 GB RAM | 128 GB ROM16.76 cm (6.6 inch) Displ...</td>\n",
       "      <td>₹8,172</td>\n",
       "      <td>None</td>\n",
       "    </tr>\n",
       "    <tr>\n",
       "      <th>19</th>\n",
       "      <td>SAMSUNG Galaxy M04 (Light Green, 128 GB)</td>\n",
       "      <td>4 GB RAM | 128 GB ROM16.51 cm (6.5 inch) HD+ D...</td>\n",
       "      <td>₹12,870</td>\n",
       "      <td>None</td>\n",
       "    </tr>\n",
       "    <tr>\n",
       "      <th>20</th>\n",
       "      <td>SAMSUNG Galaxy M14 5G (Berry Blue, 128 GB)</td>\n",
       "      <td>6 GB RAM | 128 GB ROM16.76 cm (6.6 inch) Displ...</td>\n",
       "      <td>₹18,389</td>\n",
       "      <td>None</td>\n",
       "    </tr>\n",
       "    <tr>\n",
       "      <th>21</th>\n",
       "      <td>SAMSUNG Galaxy M33 5G (Mystique Green, 128 GB)</td>\n",
       "      <td>8 GB RAM | 128 GB ROM16.76 cm (6.6 inch) Displ...</td>\n",
       "      <td>₹7,254</td>\n",
       "      <td>None</td>\n",
       "    </tr>\n",
       "    <tr>\n",
       "      <th>22</th>\n",
       "      <td>SAMSUNG Galaxy M04 (Light Green, 64 GB)</td>\n",
       "      <td>4 GB RAM | 64 GB ROM16.51 cm (6.5 inch) HD+ Di...</td>\n",
       "      <td>₹18,499</td>\n",
       "      <td>None</td>\n",
       "    </tr>\n",
       "    <tr>\n",
       "      <th>23</th>\n",
       "      <td>SAMSUNG Galaxy F34 5G (Orchid Violet, 128 GB)</td>\n",
       "      <td>8 GB RAM | 128 GB ROM | Expandable Upto 1 TB16...</td>\n",
       "      <td>None</td>\n",
       "      <td>None</td>\n",
       "    </tr>\n",
       "  </tbody>\n",
       "</table>\n",
       "</div>"
      ],
      "text/plain": [
       "                                                Title  \\\n",
       "0                   SAMSUNG S23 FE (Graphite, 128 GB)   \n",
       "1          SAMSUNG Galaxy A72 (Awesome White, 128 GB)   \n",
       "2         SAMSUNG Galaxy S23 Ultra 5G (Green, 256 GB)   \n",
       "3        SAMSUNG Galaxy A33 5G (Awesome Blue, 128 GB)   \n",
       "4       SAMSUNG Galaxy A53 5G (Awesome Black, 128 GB)   \n",
       "5            SAMSUNG Galaxy S20+ (Cloud Blue, 128 GB)   \n",
       "6                          SAMSUNG a23 (bule, 128 GB)   \n",
       "7               SAMSUNG a14 5g (Steller Black, 64 GB)   \n",
       "8   Samsung Galaxy S21 FE 5G with Snapdragon 888 (...   \n",
       "9   Samsung Galaxy S21 FE 5G with Snapdragon 888 (...   \n",
       "10  Samsung Galaxy S21 FE 5G with Snapdragon 888 (...   \n",
       "11  Samsung Galaxy S21 FE 5G with Snapdragon 888 (...   \n",
       "12                     SAMSUNG A14 5g (Green, 128 GB)   \n",
       "13  Samsung Galaxy S21 FE 5G with Snapdragon 888 (...   \n",
       "14  Samsung Galaxy S21 FE 5G with Snapdragon 888 (...   \n",
       "15  Samsung Galaxy S21 FE 5G with Snapdragon 888 (...   \n",
       "16             SAMSUNG GALAXY M13 (Aqua Green, 64 GB)   \n",
       "17                     SAMSUNG A14 5g (Green, 128 GB)   \n",
       "18         SAMSUNG Galaxy M14 5G (ICY Silver, 128 GB)   \n",
       "19           SAMSUNG Galaxy M04 (Light Green, 128 GB)   \n",
       "20         SAMSUNG Galaxy M14 5G (Berry Blue, 128 GB)   \n",
       "21     SAMSUNG Galaxy M33 5G (Mystique Green, 128 GB)   \n",
       "22            SAMSUNG Galaxy M04 (Light Green, 64 GB)   \n",
       "23      SAMSUNG Galaxy F34 5G (Orchid Violet, 128 GB)   \n",
       "\n",
       "                                          Description      Price Ratings  \n",
       "0   8 GB RAM | 128 GB ROM16.26 cm (6.4 inch) Full ...    ₹59,999     4.3  \n",
       "1   8 GB RAM | 128 GB ROM17.02 cm (6.7 inch) Displ...    ₹25,990     4.5  \n",
       "2   12 GB RAM | 256 GB ROM17.27 cm (6.8 inch) Quad...  ₹1,03,999     4.4  \n",
       "3   8 GB RAM | 128 GB ROM16.26 cm (6.4 inch) Displ...    ₹24,999     4.3  \n",
       "4   8 GB RAM | 128 GB ROM16.51 cm (6.5 inch) Displ...    ₹28,990     4.3  \n",
       "5   8 GB RAM | 128 GB ROM17.02 cm (6.7 inch) Displ...    ₹39,990     4.3  \n",
       "6   8 GB RAM | 128 GB ROM | Expandable Upto 1 TB16...    ₹22,781     4.3  \n",
       "7   4 GB RAM | 64 GB ROM16.76 cm (6.6 inch) Full H...    ₹32,999     4.3  \n",
       "8   8 GB RAM | 128 GB ROM16.26 cm (6.4 inch) Full ...    ₹32,999     4.3  \n",
       "9   8 GB RAM | 128 GB ROM16.26 cm (6.4 inch) Full ...    ₹32,999     4.3  \n",
       "10  8 GB RAM | 128 GB ROM16.26 cm (6.4 inch) Full ...    ₹32,999     4.2  \n",
       "11  8 GB RAM | 128 GB ROM16.26 cm (6.4 inch) Full ...    ₹17,599       3  \n",
       "12  6 GB RAM | 128 GB ROM | Expandable Upto 1 TB16...    ₹34,999     4.2  \n",
       "13  8 GB RAM | 256 GB ROM16.26 cm (6.4 inch) Full ...    ₹34,999     4.1  \n",
       "14  8 GB RAM | 256 GB ROM16.26 cm (6.4 inch) Full ...    ₹34,999     4.2  \n",
       "15  8 GB RAM | 256 GB ROM16.26 cm (6.4 inch) Full ...     ₹9,978     4.2  \n",
       "16  4 GB RAM | 64 GB ROM16.76 cm (6.6 inch) Displa...    ₹18,999     4.1  \n",
       "17  8 GB RAM | 128 GB ROM16.76 cm (6.6 inch) Full ...    ₹12,880     4.2  \n",
       "18  4 GB RAM | 128 GB ROM16.76 cm (6.6 inch) Displ...     ₹8,172    None  \n",
       "19  4 GB RAM | 128 GB ROM16.51 cm (6.5 inch) HD+ D...    ₹12,870    None  \n",
       "20  6 GB RAM | 128 GB ROM16.76 cm (6.6 inch) Displ...    ₹18,389    None  \n",
       "21  8 GB RAM | 128 GB ROM16.76 cm (6.6 inch) Displ...     ₹7,254    None  \n",
       "22  4 GB RAM | 64 GB ROM16.51 cm (6.5 inch) HD+ Di...    ₹18,499    None  \n",
       "23  8 GB RAM | 128 GB ROM | Expandable Upto 1 TB16...       None    None  "
      ]
     },
     "execution_count": 67,
     "metadata": {},
     "output_type": "execute_result"
    }
   ],
   "source": [
    "#Converting this Informal Data into DataFrame.\n",
    "\n",
    "FinalData = {\n",
    "    'Title' : TitleList,\n",
    "    'Description' : DescriptionList,\n",
    "    'Price' : PriceList,\n",
    "    'Ratings' : RatingList\n",
    "}\n",
    "\n",
    "# df = pd.DataFrame(FinalData)\n",
    "# df2 = df.replace(r'^\\s*$', np.nan, regex=True)\n",
    "# # df = df.fillna(value=np.nan)\n",
    "# df2\n",
    "\n",
    "\n",
    "df = pd.DataFrame.from_dict(FinalData, orient='index')\n",
    "df.transpose()"
   ]
  },
  {
   "cell_type": "code",
   "execution_count": 68,
   "id": "501220ca",
   "metadata": {},
   "outputs": [],
   "source": [
    "#Export this DataFrame into .csv File\n",
    "\n",
    "df.to_csv('SamsungMobileData.csv')"
   ]
  },
  {
   "cell_type": "code",
   "execution_count": 69,
   "id": "8deb465e",
   "metadata": {},
   "outputs": [
    {
     "name": "stdout",
     "output_type": "stream",
     "text": [
      "24 24 23 18\n"
     ]
    }
   ],
   "source": [
    "print(len(TitleList),len(DescriptionList),len(PriceList),len(RatingList),)"
   ]
  }
 ],
 "metadata": {
  "kernelspec": {
   "display_name": "Python 3 (ipykernel)",
   "language": "python",
   "name": "python3"
  },
  "language_info": {
   "codemirror_mode": {
    "name": "ipython",
    "version": 3
   },
   "file_extension": ".py",
   "mimetype": "text/x-python",
   "name": "python",
   "nbconvert_exporter": "python",
   "pygments_lexer": "ipython3",
   "version": "3.10.9"
  }
 },
 "nbformat": 4,
 "nbformat_minor": 5
}
